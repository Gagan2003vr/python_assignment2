{
  "nbformat": 4,
  "nbformat_minor": 0,
  "metadata": {
    "colab": {
      "provenance": []
    },
    "kernelspec": {
      "name": "python3",
      "display_name": "Python 3"
    },
    "language_info": {
      "name": "python"
    }
  },
  "cells": [
    {
      "cell_type": "markdown",
      "source": [
        "lists"
      ],
      "metadata": {
        "id": "0dbqg4CtZBlX"
      }
    },
    {
      "cell_type": "code",
      "execution_count": null,
      "metadata": {
        "id": "xQxhL8_6YyCN"
      },
      "outputs": [],
      "source": [
        "#1) create a list of 5 fruits\n",
        "list_1=[\"banana\",\"apple\",\"orange\",\"mango\",\"papaya\"]\n"
      ]
    },
    {
      "cell_type": "markdown",
      "source": [],
      "metadata": {
        "id": "SaHYNLnpaWv5"
      }
    },
    {
      "cell_type": "markdown",
      "source": [
        " accessing of the second and fourth element"
      ],
      "metadata": {
        "id": "7CKCaaXyaPFN"
      }
    },
    {
      "cell_type": "code",
      "source": [
        "print(list_1[1]) #"
      ],
      "metadata": {
        "colab": {
          "base_uri": "https://localhost:8080/"
        },
        "id": "PZ8TrAOjaERX",
        "outputId": "5cc8b395-c1cc-4640-8e3f-dec301e4d75b"
      },
      "execution_count": null,
      "outputs": [
        {
          "output_type": "stream",
          "name": "stdout",
          "text": [
            "apple\n"
          ]
        }
      ]
    },
    {
      "cell_type": "code",
      "source": [
        "print(list_1[4])"
      ],
      "metadata": {
        "colab": {
          "base_uri": "https://localhost:8080/"
        },
        "id": "i3pZ3EmeaMqt",
        "outputId": "00750c34-d61c-4e51-d927-ec1efd6dbaa5"
      },
      "execution_count": null,
      "outputs": [
        {
          "output_type": "stream",
          "name": "stdout",
          "text": [
            "papaya\n"
          ]
        }
      ]
    },
    {
      "cell_type": "code",
      "source": [],
      "metadata": {
        "id": "7wTPG_WJajgD"
      },
      "execution_count": null,
      "outputs": []
    },
    {
      "cell_type": "markdown",
      "source": [
        "2)modify of list"
      ],
      "metadata": {
        "id": "DCvQD_kWarKu"
      }
    },
    {
      "cell_type": "code",
      "source": [
        "list_1.append(\"kiwi\")"
      ],
      "metadata": {
        "id": "wJbqWJXHbbB7"
      },
      "execution_count": null,
      "outputs": []
    },
    {
      "cell_type": "code",
      "source": [
        "list_1 # adding of new fruit to the list by using append function"
      ],
      "metadata": {
        "colab": {
          "base_uri": "https://localhost:8080/"
        },
        "id": "vZLEq4BlblSw",
        "outputId": "008a1b32-c8c9-4519-ec61-365413cba363"
      },
      "execution_count": null,
      "outputs": [
        {
          "output_type": "execute_result",
          "data": {
            "text/plain": [
              "['banana', 'apple', 'orange', 'mango', 'papaya', 'kiwi']"
            ]
          },
          "metadata": {},
          "execution_count": 16
        }
      ]
    },
    {
      "cell_type": "code",
      "source": [
        "list_1.insert(3,\"strawberry\")"
      ],
      "metadata": {
        "id": "NJGCSx_ybmbR"
      },
      "execution_count": null,
      "outputs": []
    },
    {
      "cell_type": "code",
      "source": [
        "list_1 # adding the strawberry fruit in list at 3rd place by using insert function"
      ],
      "metadata": {
        "colab": {
          "base_uri": "https://localhost:8080/"
        },
        "id": "7QBzLDgvcesx",
        "outputId": "dd9e7acb-b928-4039-f543-3ebf058b1154"
      },
      "execution_count": null,
      "outputs": [
        {
          "output_type": "execute_result",
          "data": {
            "text/plain": [
              "['banana', 'apple', 'orange', 'strawberry', 'mango', 'papaya', 'kiwi']"
            ]
          },
          "metadata": {},
          "execution_count": 18
        }
      ]
    },
    {
      "cell_type": "code",
      "source": [
        "list_1.pop() # removing the last fruit in the list by using pop function"
      ],
      "metadata": {
        "colab": {
          "base_uri": "https://localhost:8080/",
          "height": 35
        },
        "id": "Zlr18-bochiP",
        "outputId": "4d9bf4a2-e396-415b-f5c9-ca33e616d532"
      },
      "execution_count": null,
      "outputs": [
        {
          "output_type": "execute_result",
          "data": {
            "text/plain": [
              "'kiwi'"
            ],
            "application/vnd.google.colaboratory.intrinsic+json": {
              "type": "string"
            }
          },
          "metadata": {},
          "execution_count": 19
        }
      ]
    },
    {
      "cell_type": "code",
      "source": [
        "list_1"
      ],
      "metadata": {
        "colab": {
          "base_uri": "https://localhost:8080/"
        },
        "id": "KpSUI8yAc7IT",
        "outputId": "d4215d81-6c6f-46df-bb07-27a517927801"
      },
      "execution_count": null,
      "outputs": [
        {
          "output_type": "execute_result",
          "data": {
            "text/plain": [
              "['banana', 'apple', 'orange', 'strawberry', 'mango', 'papaya']"
            ]
          },
          "metadata": {},
          "execution_count": 20
        }
      ]
    },
    {
      "cell_type": "code",
      "source": [],
      "metadata": {
        "id": "dc4nFOWvc9Ko"
      },
      "execution_count": null,
      "outputs": []
    },
    {
      "cell_type": "markdown",
      "source": [
        "3) list methods"
      ],
      "metadata": {
        "id": "28nv9lLpdI0i"
      }
    },
    {
      "cell_type": "code",
      "source": [
        "list_2=['a','b','f','g','t','c','e','h']\n",
        "list_2.sort()"
      ],
      "metadata": {
        "id": "wIRLCmzadPwg"
      },
      "execution_count": 5,
      "outputs": []
    },
    {
      "cell_type": "code",
      "source": [
        "list_2  # sorting of alphabetically order"
      ],
      "metadata": {
        "id": "UpxOhMYHdZUE",
        "colab": {
          "base_uri": "https://localhost:8080/"
        },
        "outputId": "cfe4d4fb-a063-4eba-ebe8-97f3ed738156"
      },
      "execution_count": 4,
      "outputs": [
        {
          "output_type": "execute_result",
          "data": {
            "text/plain": [
              "['a', 'b', 'c', 'e', 'f', 'g', 'h', 't']"
            ]
          },
          "metadata": {},
          "execution_count": 4
        }
      ]
    },
    {
      "cell_type": "code",
      "source": [
        "list_2.reverse() #reversing of list"
      ],
      "metadata": {
        "id": "43-vvkQRdUG-"
      },
      "execution_count": 6,
      "outputs": []
    },
    {
      "cell_type": "code",
      "source": [
        "list_2"
      ],
      "metadata": {
        "colab": {
          "base_uri": "https://localhost:8080/"
        },
        "id": "jpV84B4MdsXU",
        "outputId": "d9f35d3f-0c87-4a49-8aa7-b1269f614639"
      },
      "execution_count": 7,
      "outputs": [
        {
          "output_type": "execute_result",
          "data": {
            "text/plain": [
              "['t', 'h', 'g', 'f', 'e', 'c', 'b', 'a']"
            ]
          },
          "metadata": {},
          "execution_count": 7
        }
      ]
    },
    {
      "cell_type": "code",
      "source": [
        "\n",
        "list_3=[\"banana\",\"apple\",\"orange\",\"mango\",\"papaya\"]\n",
        "list_3.count(\"apple\")       # counting the apple in the list\n"
      ],
      "metadata": {
        "colab": {
          "base_uri": "https://localhost:8080/"
        },
        "id": "pY1rx5mqduHT",
        "outputId": "66704666-76c4-4d5b-939d-6c0f92d13f6b"
      },
      "execution_count": 1,
      "outputs": [
        {
          "output_type": "execute_result",
          "data": {
            "text/plain": [
              "1"
            ]
          },
          "metadata": {},
          "execution_count": 1
        }
      ]
    },
    {
      "cell_type": "code",
      "source": [
        "list_3"
      ],
      "metadata": {
        "colab": {
          "base_uri": "https://localhost:8080/"
        },
        "id": "lkDrFIoz-Ri_",
        "outputId": "bdaa862b-e6c3-47b5-f1cf-ff9eb1bc6754"
      },
      "execution_count": 2,
      "outputs": [
        {
          "output_type": "execute_result",
          "data": {
            "text/plain": [
              "['banana', 'apple', 'orange', 'mango', 'papaya']"
            ]
          },
          "metadata": {},
          "execution_count": 2
        }
      ]
    },
    {
      "cell_type": "markdown",
      "source": [
        "part_2 Tuples"
      ],
      "metadata": {
        "id": "_3l5Uqde-m_D"
      }
    },
    {
      "cell_type": "code",
      "source": [
        "#1) create and access elements\n",
        "tuple_1=(10,20,30,40,50)"
      ],
      "metadata": {
        "id": "bVBFKyhw-eHF"
      },
      "execution_count": 27,
      "outputs": []
    },
    {
      "cell_type": "code",
      "source": [
        "tuple_1"
      ],
      "metadata": {
        "colab": {
          "base_uri": "https://localhost:8080/"
        },
        "id": "Mv_bAGB3_CZ3",
        "outputId": "a22a629d-bc49-449e-f9d6-021c41385fa7"
      },
      "execution_count": 28,
      "outputs": [
        {
          "output_type": "execute_result",
          "data": {
            "text/plain": [
              "(10, 20, 30, 40, 50)"
            ]
          },
          "metadata": {},
          "execution_count": 28
        }
      ]
    },
    {
      "cell_type": "code",
      "source": [
        "print(tuple_1[0])"
      ],
      "metadata": {
        "colab": {
          "base_uri": "https://localhost:8080/"
        },
        "id": "7d3tyG_K_FMb",
        "outputId": "982d599e-84fa-4dcc-a383-53ca7d159b86"
      },
      "execution_count": 29,
      "outputs": [
        {
          "output_type": "stream",
          "name": "stdout",
          "text": [
            "10\n"
          ]
        }
      ]
    },
    {
      "cell_type": "code",
      "source": [
        "print(tuple_1[4])"
      ],
      "metadata": {
        "colab": {
          "base_uri": "https://localhost:8080/"
        },
        "id": "Mk3lKj1YBN78",
        "outputId": "e32f21ca-c041-4ab9-96cc-fa7f8a937169"
      },
      "execution_count": 30,
      "outputs": [
        {
          "output_type": "stream",
          "name": "stdout",
          "text": [
            "50\n"
          ]
        }
      ]
    },
    {
      "cell_type": "code",
      "source": [
        "tuple_2=(\"a\",\"b\",\"c\",\"d\")"
      ],
      "metadata": {
        "id": "NsKqPJIq_NHm"
      },
      "execution_count": 16,
      "outputs": []
    },
    {
      "cell_type": "code",
      "source": [
        "tuple_2  #by using alphabets to print 1st and 2nd"
      ],
      "metadata": {
        "colab": {
          "base_uri": "https://localhost:8080/"
        },
        "id": "X2p4I6ZBAMH7",
        "outputId": "883286c7-9452-47ff-ab61-87dd6e3452fb"
      },
      "execution_count": 23,
      "outputs": [
        {
          "output_type": "execute_result",
          "data": {
            "text/plain": [
              "('a', 'b', 'c', 'd')"
            ]
          },
          "metadata": {},
          "execution_count": 23
        }
      ]
    },
    {
      "cell_type": "code",
      "source": [
        "print(tuple_2[0])"
      ],
      "metadata": {
        "colab": {
          "base_uri": "https://localhost:8080/"
        },
        "id": "FJx4l1MKAOKd",
        "outputId": "10a10fc5-ca4e-4d07-e801-2322df955400"
      },
      "execution_count": 21,
      "outputs": [
        {
          "output_type": "stream",
          "name": "stdout",
          "text": [
            "a\n"
          ]
        }
      ]
    },
    {
      "cell_type": "code",
      "source": [
        "print(tuple_2[3])\n"
      ],
      "metadata": {
        "colab": {
          "base_uri": "https://localhost:8080/"
        },
        "id": "huYR0SjZAS2i",
        "outputId": "80d87001-47b0-4a4a-9de6-35c471ba6b06"
      },
      "execution_count": 22,
      "outputs": [
        {
          "output_type": "stream",
          "name": "stdout",
          "text": [
            "d\n"
          ]
        }
      ]
    },
    {
      "cell_type": "markdown",
      "source": [
        "2) immutable nature of tuples"
      ],
      "metadata": {
        "id": "th-kEbxxBycU"
      }
    },
    {
      "cell_type": "code",
      "source": [
        "tuple_2[1]=25"
      ],
      "metadata": {
        "colab": {
          "base_uri": "https://localhost:8080/",
          "height": 141
        },
        "id": "h4DvHpOZAn6X",
        "outputId": "bacf5f6d-fa5e-4d20-91fe-7ab553a28d70"
      },
      "execution_count": 31,
      "outputs": [
        {
          "output_type": "error",
          "ename": "TypeError",
          "evalue": "'tuple' object does not support item assignment",
          "traceback": [
            "\u001b[0;31m---------------------------------------------------------------------------\u001b[0m",
            "\u001b[0;31mTypeError\u001b[0m                                 Traceback (most recent call last)",
            "\u001b[0;32m<ipython-input-31-87b3e21e6b73>\u001b[0m in \u001b[0;36m<cell line: 1>\u001b[0;34m()\u001b[0m\n\u001b[0;32m----> 1\u001b[0;31m \u001b[0mtuple_2\u001b[0m\u001b[0;34m[\u001b[0m\u001b[0;36m1\u001b[0m\u001b[0;34m]\u001b[0m\u001b[0;34m=\u001b[0m\u001b[0;36m25\u001b[0m\u001b[0;34m\u001b[0m\u001b[0;34m\u001b[0m\u001b[0m\n\u001b[0m",
            "\u001b[0;31mTypeError\u001b[0m: 'tuple' object does not support item assignment"
          ]
        }
      ]
    },
    {
      "cell_type": "markdown",
      "source": [
        "From the above error it shows tuple is immutable,which means the content inside tuple we cant change\n",
        "--if we change it give the 'TypeError' this indicate that 'tuple' object does not support item assingment"
      ],
      "metadata": {
        "id": "tHJJO-OuFmoK"
      }
    },
    {
      "cell_type": "markdown",
      "source": [
        "3)operation in tuples\n",
        "--. use tuple unpacking to assign the vaues of the tuples to 5 different variables. print each variables"
      ],
      "metadata": {
        "id": "gWW0db1XG6ba"
      }
    },
    {
      "cell_type": "code",
      "source": [
        "tuple_3=(1,2,3,4,5)\n",
        "a,b,c,d,e=tuple_3\n",
        "print(\"a=\",a)\n",
        "print(\"b=\",b)\n",
        "print(\"c=\",c)\n",
        "print(\"d=\",d)\n",
        "print(\"e=\",e)"
      ],
      "metadata": {
        "colab": {
          "base_uri": "https://localhost:8080/"
        },
        "id": "TIbS1zlXIWYo",
        "outputId": "675c5ca1-e14c-4e7c-d102-22a4d3cdd542"
      },
      "execution_count": 32,
      "outputs": [
        {
          "output_type": "stream",
          "name": "stdout",
          "text": [
            "a= 1\n",
            "b= 2\n",
            "c= 3\n",
            "d= 4\n",
            "e= 5\n"
          ]
        }
      ]
    },
    {
      "cell_type": "markdown",
      "source": [
        "part_3: Dictionaries"
      ],
      "metadata": {
        "id": "VKVmhfhnI6pu"
      }
    },
    {
      "cell_type": "markdown",
      "source": [
        "1) create and acess elements"
      ],
      "metadata": {
        "id": "lMrOYqIuJC6u"
      }
    },
    {
      "cell_type": "code",
      "source": [
        "dict_1={\"name\":\"john\",\"age\":\"20\",\"subjects\":[\"math\",\"physics\",\"chemistry\"]}  #creating the dictionariess"
      ],
      "metadata": {
        "id": "-4p3MDxaJI-I"
      },
      "execution_count": 34,
      "outputs": []
    },
    {
      "cell_type": "code",
      "source": [
        "dict_1"
      ],
      "metadata": {
        "colab": {
          "base_uri": "https://localhost:8080/"
        },
        "id": "GgnxvJHzIwoe",
        "outputId": "d6d16bb2-c0c3-479e-d1db-74fc10b6c911"
      },
      "execution_count": 39,
      "outputs": [
        {
          "output_type": "execute_result",
          "data": {
            "text/plain": [
              "{'name': 'john', 'age': '20', 'subjects': ['math', 'physics', 'chemistry']}"
            ]
          },
          "metadata": {},
          "execution_count": 39
        }
      ]
    },
    {
      "cell_type": "code",
      "source": [
        " dict_1.get(\"age\")  or  dict_1[\"age\"]   # acessing the age of person"
      ],
      "metadata": {
        "colab": {
          "base_uri": "https://localhost:8080/",
          "height": 35
        },
        "id": "LprlHRkTJuPf",
        "outputId": "f80aced6-9d92-48a0-fd86-12e06b8e4002"
      },
      "execution_count": 41,
      "outputs": [
        {
          "output_type": "execute_result",
          "data": {
            "text/plain": [
              "'20'"
            ],
            "application/vnd.google.colaboratory.intrinsic+json": {
              "type": "string"
            }
          },
          "metadata": {},
          "execution_count": 41
        }
      ]
    },
    {
      "cell_type": "markdown",
      "source": [
        "2)  modify the dictionary"
      ],
      "metadata": {
        "id": "gfaL_cBPOXAL"
      }
    },
    {
      "cell_type": "code",
      "source": [
        "dict_1[\"grade\"]=\"a\"  # adding key value inside the dictionaries"
      ],
      "metadata": {
        "id": "spcH1SASJyy-"
      },
      "execution_count": 45,
      "outputs": []
    },
    {
      "cell_type": "code",
      "source": [
        "dict_1"
      ],
      "metadata": {
        "colab": {
          "base_uri": "https://localhost:8080/"
        },
        "id": "T0bTS9KTP_Fz",
        "outputId": "cf2d3859-f887-4846-a5c3-fa8fcfd52ff3"
      },
      "execution_count": 43,
      "outputs": [
        {
          "output_type": "execute_result",
          "data": {
            "text/plain": [
              "{'name': 'john',\n",
              " 'age': '20',\n",
              " 'subjects': ['math', 'physics', 'chemistry'],\n",
              " 'grade': 'a'}"
            ]
          },
          "metadata": {},
          "execution_count": 43
        }
      ]
    },
    {
      "cell_type": "code",
      "source": [
        "dict_1[\"age\"]=21  # changeing the age frm 20 to 21"
      ],
      "metadata": {
        "id": "NWZvsXlwQB_Z"
      },
      "execution_count": 48,
      "outputs": []
    },
    {
      "cell_type": "code",
      "source": [
        "dict_1"
      ],
      "metadata": {
        "colab": {
          "base_uri": "https://localhost:8080/"
        },
        "id": "t77KQEv-QqFm",
        "outputId": "09404e93-1238-46e3-96f7-407042d6d786"
      },
      "execution_count": 50,
      "outputs": [
        {
          "output_type": "execute_result",
          "data": {
            "text/plain": [
              "{'name': 'john',\n",
              " 'age': 21,\n",
              " 'subjects': ['math', 'physics', 'chemistry'],\n",
              " 'grade': 'a'}"
            ]
          },
          "metadata": {},
          "execution_count": 50
        }
      ]
    },
    {
      "cell_type": "code",
      "source": [
        "dict_1.pop(\"subjects\")  # removing the subject frm the dict_1 using pop function"
      ],
      "metadata": {
        "colab": {
          "base_uri": "https://localhost:8080/"
        },
        "id": "5xn4hZLOQ79K",
        "outputId": "bf8a9552-337b-406d-db0f-ac243c743dda"
      },
      "execution_count": 57,
      "outputs": [
        {
          "output_type": "execute_result",
          "data": {
            "text/plain": [
              "['math', 'physics', 'chemistry']"
            ]
          },
          "metadata": {},
          "execution_count": 57
        }
      ]
    },
    {
      "cell_type": "code",
      "source": [
        "dict_1"
      ],
      "metadata": {
        "colab": {
          "base_uri": "https://localhost:8080/"
        },
        "id": "ABMQ36ZxRTmv",
        "outputId": "1995bec3-71f1-4148-db55-8b6b7bf2dcf9"
      },
      "execution_count": 58,
      "outputs": [
        {
          "output_type": "execute_result",
          "data": {
            "text/plain": [
              "{'name': 'john', 'age': 21, 'grade': 'a'}"
            ]
          },
          "metadata": {},
          "execution_count": 58
        }
      ]
    },
    {
      "cell_type": "markdown",
      "source": [
        "3) dictionary methods"
      ],
      "metadata": {
        "id": "THIvXLlKSnrn"
      }
    },
    {
      "cell_type": "code",
      "source": [
        "dict_1.keys() # printing the all keys frm dict_1"
      ],
      "metadata": {
        "colab": {
          "base_uri": "https://localhost:8080/"
        },
        "id": "6B_pAIF-SUht",
        "outputId": "25738aa1-9f99-4a23-90fe-31f577d3e95e"
      },
      "execution_count": 60,
      "outputs": [
        {
          "output_type": "execute_result",
          "data": {
            "text/plain": [
              "dict_keys(['name', 'age', 'grade'])"
            ]
          },
          "metadata": {},
          "execution_count": 60
        }
      ]
    },
    {
      "cell_type": "code",
      "source": [
        "dict_1.values()  # printing the all values frm dict_1"
      ],
      "metadata": {
        "colab": {
          "base_uri": "https://localhost:8080/"
        },
        "id": "Fd8d3qL3SvHz",
        "outputId": "c2f6e5d2-6946-4fa9-9cac-2b3d9897b522"
      },
      "execution_count": 61,
      "outputs": [
        {
          "output_type": "execute_result",
          "data": {
            "text/plain": [
              "dict_values(['john', 21, 'a'])"
            ]
          },
          "metadata": {},
          "execution_count": 61
        }
      ]
    }
  ]
}